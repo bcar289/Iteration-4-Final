{
 "cells": [
  {
   "cell_type": "code",
   "execution_count": 111,
   "metadata": {},
   "outputs": [],
   "source": [
    "# Import necessary libraries.\n",
    "import findspark\n",
    "findspark.init('/home/user/spark-2.1.1-bin-hadoop2.7')\n",
    "import pyspark\n",
    "from pyspark.sql import SparkSession\n",
    "spark = SparkSession.builder.appName('basics').getOrCreate()\n",
    "\n",
    "from pyspark.sql.functions import monotonically_increasing_id\n",
    "from pyspark.sql.functions import col\n",
    "\n",
    "import warnings\n",
    "warnings.filterwarnings('ignore')\n",
    "\n",
    "import matplotlib.pyplot as plt\n",
    "\n",
    "plt.rcParams['figure.figsize'] = 8, 5\n",
    "plt.rcParams['image.cmap'] = 'viridis'\n",
    "import pandas as pd"
   ]
  },
  {
   "cell_type": "code",
   "execution_count": 112,
   "metadata": {},
   "outputs": [],
   "source": [
    "# Create dataFrame_Initial from VideoGamesSales.csv file.\n",
    "dataFrame_Initial = spark.read.csv('../Datasets/VideoGamesSales.csv', header=True, inferSchema=True)"
   ]
  },
  {
   "cell_type": "code",
   "execution_count": 113,
   "metadata": {},
   "outputs": [
    {
     "name": "stdout",
     "output_type": "stream",
     "text": [
      "Total data points: 16719\n"
     ]
    }
   ],
   "source": [
    "# Data point count for dataFrame_Initial.\n",
    "print(\"Total data points:\", dataFrame_Initial.count())"
   ]
  },
  {
   "cell_type": "code",
   "execution_count": 114,
   "metadata": {},
   "outputs": [],
   "source": [
    "# Filter dataFrame_Initial to remove empty values.\n",
    "dataFrame_Filtered = dataFrame_Initial.na.drop()"
   ]
  },
  {
   "cell_type": "code",
   "execution_count": 115,
   "metadata": {},
   "outputs": [
    {
     "name": "stdout",
     "output_type": "stream",
     "text": [
      "Total data points: 6947\n"
     ]
    }
   ],
   "source": [
    "# Data point count for dataFrame_Filtered.\n",
    "print(\"Total data points:\", dataFrame_Filtered.count())"
   ]
  },
  {
   "cell_type": "code",
   "execution_count": 116,
   "metadata": {},
   "outputs": [
    {
     "name": "stdout",
     "output_type": "stream",
     "text": [
      "root\n",
      " |-- Name: string (nullable = true)\n",
      " |-- Platform: string (nullable = true)\n",
      " |-- Year_of_Release: string (nullable = true)\n",
      " |-- Genre: string (nullable = true)\n",
      " |-- Publisher: string (nullable = true)\n",
      " |-- NA_Sales: double (nullable = true)\n",
      " |-- EU_Sales: double (nullable = true)\n",
      " |-- JP_Sales: double (nullable = true)\n",
      " |-- Other_Sales: double (nullable = true)\n",
      " |-- Global_Sales: double (nullable = true)\n",
      " |-- Critic_Score: integer (nullable = true)\n",
      " |-- Critic_Count: integer (nullable = true)\n",
      " |-- User_Score: string (nullable = true)\n",
      " |-- User_Count: integer (nullable = true)\n",
      " |-- Developer: string (nullable = true)\n",
      " |-- Rating: string (nullable = true)\n",
      "\n"
     ]
    }
   ],
   "source": [
    "# Info table for dataFrame_Initial.\n",
    "dataFrame_Filtered.printSchema()"
   ]
  },
  {
   "cell_type": "code",
   "execution_count": 117,
   "metadata": {},
   "outputs": [
    {
     "data": {
      "text/plain": [
       "DataFrame[Name: string, Platform: string, Year_of_Release: string, Genre: string, Publisher: string, NA_Sales: double, EU_Sales: double, JP_Sales: double, Other_Sales: double, Global_Sales: double, Critic_Score: int, Critic_Count: int, User_Score: string, User_Count: int, Developer: string, Rating: string, ID: bigint]"
      ]
     },
     "execution_count": 117,
     "metadata": {},
     "output_type": "execute_result"
    }
   ],
   "source": [
    "dataFrame_Filtered.select('*').withColumn('ID', monotonically_increasing_id())"
   ]
  },
  {
   "cell_type": "code",
   "execution_count": 118,
   "metadata": {},
   "outputs": [],
   "source": [
    "# Set column types to accurately reflect data.\n",
    "dataFrame_Filtered = dataFrame_Filtered.withColumn('User_Score', dataFrame_Filtered['User_Score'].cast('float'))\n",
    "dataFrame_Filtered = dataFrame_Filtered.withColumn('Year_of_Release', dataFrame_Filtered['Year_of_Release'].cast('int'))\n",
    "dataFrame_Filtered = dataFrame_Filtered.withColumn('User_Count', dataFrame_Filtered['User_Count'].cast('int'))\n",
    "dataFrame_Filtered = dataFrame_Filtered.withColumn('Critic_Count', dataFrame_Filtered['Critic_Count'].cast('int'))"
   ]
  },
  {
   "cell_type": "code",
   "execution_count": 119,
   "metadata": {},
   "outputs": [
    {
     "name": "stdout",
     "output_type": "stream",
     "text": [
      "root\n",
      " |-- Name: string (nullable = true)\n",
      " |-- Platform: string (nullable = true)\n",
      " |-- Year_of_Release: integer (nullable = true)\n",
      " |-- Genre: string (nullable = true)\n",
      " |-- Publisher: string (nullable = true)\n",
      " |-- NA_Sales: double (nullable = true)\n",
      " |-- EU_Sales: double (nullable = true)\n",
      " |-- JP_Sales: double (nullable = true)\n",
      " |-- Other_Sales: double (nullable = true)\n",
      " |-- Global_Sales: double (nullable = true)\n",
      " |-- Critic_Score: integer (nullable = true)\n",
      " |-- Critic_Count: integer (nullable = true)\n",
      " |-- User_Score: float (nullable = true)\n",
      " |-- User_Count: integer (nullable = true)\n",
      " |-- Developer: string (nullable = true)\n",
      " |-- Rating: string (nullable = true)\n",
      "\n"
     ]
    }
   ],
   "source": [
    "# Info table with columns set to correct data type.\n",
    "dataFrame_Filtered.printSchema()"
   ]
  },
  {
   "cell_type": "code",
   "execution_count": 120,
   "metadata": {},
   "outputs": [],
   "source": [
    "# Create list of columns deemed useful.\n",
    "columns_Useful = ['Name', 'Platform', 'Year_of_Release', 'Genre', \n",
    "               'Global_Sales', 'Critic_Score', 'Critic_Count',\n",
    "               'User_Score', 'User_Count', 'Rating']"
   ]
  },
  {
   "cell_type": "code",
   "execution_count": 121,
   "metadata": {},
   "outputs": [],
   "source": [
    "# Create new dataframe which contains only useful columns.\n",
    "dataFrame_Useful = dataFrame_Filtered[columns_Useful]"
   ]
  },
  {
   "cell_type": "code",
   "execution_count": 122,
   "metadata": {},
   "outputs": [
    {
     "data": {
      "text/plain": [
       "[Row(Name='Wii Sports', Platform='Wii', Year_of_Release=2006, Genre='Sports', Global_Sales=82.53, Critic_Score=76, Critic_Count=51, User_Score=8.0, User_Count=322, Rating='E'),\n",
       " Row(Name='Mario Kart Wii', Platform='Wii', Year_of_Release=2008, Genre='Racing', Global_Sales=35.52, Critic_Score=82, Critic_Count=73, User_Score=8.300000190734863, User_Count=709, Rating='E'),\n",
       " Row(Name='Wii Sports Resort', Platform='Wii', Year_of_Release=2009, Genre='Sports', Global_Sales=32.77, Critic_Score=80, Critic_Count=73, User_Score=8.0, User_Count=192, Rating='E'),\n",
       " Row(Name='New Super Mario Bros.', Platform='DS', Year_of_Release=2006, Genre='Platform', Global_Sales=29.8, Critic_Score=89, Critic_Count=65, User_Score=8.5, User_Count=431, Rating='E'),\n",
       " Row(Name='Wii Play', Platform='Wii', Year_of_Release=2006, Genre='Misc', Global_Sales=28.92, Critic_Score=58, Critic_Count=41, User_Score=6.599999904632568, User_Count=129, Rating='E'),\n",
       " Row(Name='New Super Mario Bros. Wii', Platform='Wii', Year_of_Release=2009, Genre='Platform', Global_Sales=28.32, Critic_Score=87, Critic_Count=80, User_Score=8.399999618530273, User_Count=594, Rating='E'),\n",
       " Row(Name='Mario Kart DS', Platform='DS', Year_of_Release=2005, Genre='Racing', Global_Sales=23.21, Critic_Score=91, Critic_Count=64, User_Score=8.600000381469727, User_Count=464, Rating='E'),\n",
       " Row(Name='Wii Fit', Platform='Wii', Year_of_Release=2007, Genre='Sports', Global_Sales=22.7, Critic_Score=80, Critic_Count=63, User_Score=7.699999809265137, User_Count=146, Rating='E'),\n",
       " Row(Name='Kinect Adventures!', Platform='X360', Year_of_Release=2010, Genre='Misc', Global_Sales=21.81, Critic_Score=61, Critic_Count=45, User_Score=6.300000190734863, User_Count=106, Rating='E'),\n",
       " Row(Name='Wii Fit Plus', Platform='Wii', Year_of_Release=2009, Genre='Sports', Global_Sales=21.79, Critic_Score=80, Critic_Count=33, User_Score=7.400000095367432, User_Count=52, Rating='E')]"
      ]
     },
     "execution_count": 122,
     "metadata": {},
     "output_type": "execute_result"
    }
   ],
   "source": [
    "# Show first 10 rows of dataFrame_Useful\n",
    "dataFrame_Useful.head(10)"
   ]
  },
  {
   "cell_type": "code",
   "execution_count": 123,
   "metadata": {},
   "outputs": [],
   "source": [
    "pd_df_Useful = dataFrame_Useful.describe().toPandas().transpose()"
   ]
  },
  {
   "cell_type": "code",
   "execution_count": null,
   "metadata": {},
   "outputs": [],
   "source": []
  }
 ],
 "metadata": {
  "kernelspec": {
   "display_name": "Python 3",
   "language": "python",
   "name": "python3"
  },
  "language_info": {
   "codemirror_mode": {
    "name": "ipython",
    "version": 3
   },
   "file_extension": ".py",
   "mimetype": "text/x-python",
   "name": "python",
   "nbconvert_exporter": "python",
   "pygments_lexer": "ipython3",
   "version": "3.6.5"
  }
 },
 "nbformat": 4,
 "nbformat_minor": 2
}
