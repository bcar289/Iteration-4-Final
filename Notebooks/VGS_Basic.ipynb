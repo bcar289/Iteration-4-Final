{
 "cells": [
  {
   "cell_type": "code",
   "execution_count": 20,
   "metadata": {},
   "outputs": [],
   "source": [
    "# Import necessary libraries.\n",
    "import findspark\n",
    "findspark.init('/home/user/spark-2.1.1-bin-hadoop2.7')\n",
    "import pyspark\n",
    "from pyspark.sql import SparkSession\n",
    "spark = SparkSession.builder.appName('basics').getOrCreate()\n",
    "\n",
    "import warnings\n",
    "warnings.filterwarnings('ignore')\n",
    "\n",
    "import matplotlib.pyplot as plt\n",
    "\n",
    "plt.rcParams['figure.figsize'] = 8, 5\n",
    "plt.rcParams['image.cmap'] = 'viridis'\n",
    "import pandas as pd"
   ]
  },
  {
   "cell_type": "code",
   "execution_count": 21,
   "metadata": {},
   "outputs": [],
   "source": [
    "# Create dataFrame_Initial from VideoGamesSales.csv file.\n",
    "dataFrame_Initial = pd.read_csv('../Datasets/VideoGamesSales.csv')"
   ]
  },
  {
   "cell_type": "code",
   "execution_count": 22,
   "metadata": {},
   "outputs": [
    {
     "name": "stdout",
     "output_type": "stream",
     "text": [
      "(16719, 16)\n"
     ]
    }
   ],
   "source": [
    "# Row and column count for dataFrame_Initial.\n",
    "print(dataFrame_Initial.shape)"
   ]
  },
  {
   "cell_type": "code",
   "execution_count": 23,
   "metadata": {},
   "outputs": [],
   "source": [
    "# Filter dataFrame_Initial to remove empty values.\n",
    "dataFrame_Filtered = dataFrame_Initial.dropna()"
   ]
  },
  {
   "cell_type": "code",
   "execution_count": 24,
   "metadata": {},
   "outputs": [
    {
     "name": "stdout",
     "output_type": "stream",
     "text": [
      "(6825, 16)\n"
     ]
    }
   ],
   "source": [
    "# Row and column count for dataFrame_Filtered.\n",
    "print(dataFrame_Filtered.shape)"
   ]
  },
  {
   "cell_type": "code",
   "execution_count": 25,
   "metadata": {},
   "outputs": [
    {
     "name": "stdout",
     "output_type": "stream",
     "text": [
      "<class 'pandas.core.frame.DataFrame'>\n",
      "RangeIndex: 16719 entries, 0 to 16718\n",
      "Data columns (total 16 columns):\n",
      "Name               16717 non-null object\n",
      "Platform           16719 non-null object\n",
      "Year_of_Release    16450 non-null float64\n",
      "Genre              16717 non-null object\n",
      "Publisher          16665 non-null object\n",
      "NA_Sales           16719 non-null float64\n",
      "EU_Sales           16719 non-null float64\n",
      "JP_Sales           16719 non-null float64\n",
      "Other_Sales        16719 non-null float64\n",
      "Global_Sales       16719 non-null float64\n",
      "Critic_Score       8137 non-null float64\n",
      "Critic_Count       8137 non-null float64\n",
      "User_Score         10015 non-null object\n",
      "User_Count         7590 non-null float64\n",
      "Developer          10096 non-null object\n",
      "Rating             9950 non-null object\n",
      "dtypes: float64(9), object(7)\n",
      "memory usage: 2.0+ MB\n"
     ]
    }
   ],
   "source": [
    "# Info table for dataFrame_Initial.\n",
    "dataFrame_Filtered.info()"
   ]
  },
  {
   "cell_type": "code",
   "execution_count": 26,
   "metadata": {},
   "outputs": [],
   "source": [
    "# Set column types to accurately reflect data.\n",
    "dataFrame_Filtered['User_Score'] = dataFrame_Filtered['User_Score'].astype('float64')\n",
    "dataFrame_Filtered['Year_of_Release'] = dataFrame_Filtered['Year_of_Release'].astype('int64')\n",
    "dataFrame_Filtered['User_Count'] = dataFrame_Filtered['User_Count'].astype('int64')\n",
    "dataFrame_Filtered['Critic_Count'] = dataFrame_Filtered['Critic_Count'].astype('int64')"
   ]
  },
  {
   "cell_type": "code",
   "execution_count": 27,
   "metadata": {},
   "outputs": [
    {
     "name": "stdout",
     "output_type": "stream",
     "text": [
      "<class 'pandas.core.frame.DataFrame'>\n",
      "Int64Index: 6825 entries, 0 to 16706\n",
      "Data columns (total 16 columns):\n",
      "Name               6825 non-null object\n",
      "Platform           6825 non-null object\n",
      "Year_of_Release    6825 non-null int64\n",
      "Genre              6825 non-null object\n",
      "Publisher          6825 non-null object\n",
      "NA_Sales           6825 non-null float64\n",
      "EU_Sales           6825 non-null float64\n",
      "JP_Sales           6825 non-null float64\n",
      "Other_Sales        6825 non-null float64\n",
      "Global_Sales       6825 non-null float64\n",
      "Critic_Score       6825 non-null float64\n",
      "Critic_Count       6825 non-null int64\n",
      "User_Score         6825 non-null float64\n",
      "User_Count         6825 non-null int64\n",
      "Developer          6825 non-null object\n",
      "Rating             6825 non-null object\n",
      "dtypes: float64(7), int64(3), object(6)\n",
      "memory usage: 906.4+ KB\n"
     ]
    }
   ],
   "source": [
    "# Info table with columns set to correct data type.\n",
    "dataFrame_Filtered.info()"
   ]
  },
  {
   "cell_type": "code",
   "execution_count": 28,
   "metadata": {},
   "outputs": [],
   "source": [
    "columns_Useful = ['Name', 'Platform', 'Year_of_Release', 'Genre', \n",
    "               'Global_Sales', 'Critic_Score', 'Critic_Count',\n",
    "               'User_Score', 'User_Count', 'Rating']"
   ]
  },
  {
   "cell_type": "code",
   "execution_count": null,
   "metadata": {},
   "outputs": [],
   "source": []
  }
 ],
 "metadata": {
  "kernelspec": {
   "display_name": "Python 3",
   "language": "python",
   "name": "python3"
  },
  "language_info": {
   "codemirror_mode": {
    "name": "ipython",
    "version": 3
   },
   "file_extension": ".py",
   "mimetype": "text/x-python",
   "name": "python",
   "nbconvert_exporter": "python",
   "pygments_lexer": "ipython3",
   "version": "3.6.5"
  }
 },
 "nbformat": 4,
 "nbformat_minor": 2
}
